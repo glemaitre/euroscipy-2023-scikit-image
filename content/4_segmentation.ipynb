{
 "cells": [
  {
   "cell_type": "markdown",
   "metadata": {},
   "source": [
    "# Segmentation\n",
    "\n",
    "\n",
    "\n",
    "## Separating an image into one or more regions of interest.\n",
    "\n",
    "Everyone has heard or seen Photoshop or a similar graphics editor take a person from one image and place them into another.  The first step of doing this is *identifying where that person is in the source image*.\n",
    "\n",
    "In popular culture, the Terminator's vision segments humans:\n",
    "\n",
    "<img src=\"./images/terminator-vision.png\" width=\"700px\"/>\n",
    "\n",
    "### Segmentation contains two major sub-fields\n",
    "\n",
    "* **Supervised** segmentation: Some prior knowledge, possibly from human input, is used to guide the algorithm.  Supervised algorithms currently included in scikit-image include\n",
    "  *  Thresholding algorithms which require user input (`skimage.filters.threshold_*`)\n",
    "  * `skimage.segmentation.random_walker`\n",
    "  * `skimage.segmentation.active_contour`\n",
    "  * `skimage.segmentation.watershed`\n",
    "* **Unsupervised** segmentation: No prior knowledge.  These algorithms attempt to subdivide into meaningful regions automatically.  The user may be able to tweak settings like number of regions.\n",
    "  *  Thresholding algorithms which require no user input.\n",
    "  *  `skimage.segmentation.slic`\n",
    "  * `skimage.segmentation.chan_vese`\n",
    "  * `skimage.segmentation.felzenszwalb`\n",
    "  * `skimage.segmentation.quickshift`\n"
   ]
  },
  {
   "cell_type": "markdown",
   "metadata": {},
   "source": [
    "First, some standard imports and a helper function to display our results"
   ]
  },
  {
   "cell_type": "code",
   "execution_count": null,
   "metadata": {},
   "outputs": [],
   "source": [
    "import numpy as np\n",
    "import matplotlib.pyplot as plt\n",
    "\n",
    "import skimage.data as data\n",
    "import skimage.segmentation as seg\n",
    "from skimage import filters\n",
    "from skimage import draw\n",
    "from skimage import color\n",
    "from skimage import exposure\n",
    "\n",
    "\n",
    "def image_show(image, nrows=1, ncols=1, cmap='gray', **kwargs):\n",
    "    fig, ax = plt.subplots(nrows=nrows, ncols=ncols, figsize=(16, 16))\n",
    "    ax.imshow(image, cmap='gray')\n",
    "    ax.axis('off')\n",
    "    return fig, ax"
   ]
  },
  {
   "cell_type": "markdown",
   "metadata": {},
   "source": [
    "## Thresholding\n",
    "\n",
    "In some images, global or local contrast may be sufficient to separate regions of interest.  Simply choosing all pixels above or below a certain *threshold* may be sufficient to segment such an image.\n",
    "\n",
    "Let's try this on an image of a textbook."
   ]
  },
  {
   "cell_type": "code",
   "execution_count": null,
   "metadata": {},
   "outputs": [],
   "source": [
    "text = data.page()\n",
    "\n",
    "image_show(text);"
   ]
  },
  {
   "cell_type": "markdown",
   "metadata": {},
   "source": [
    "### Histograms\n",
    "\n",
    "A histogram simply plots the frequency (number of times) values within a certain range appear against the data values themselves.  It is a powerful tool to get to know your data - or decide where you would like to threshold."
   ]
  },
  {
   "cell_type": "code",
   "execution_count": null,
   "metadata": {},
   "outputs": [],
   "source": [
    "fig, ax = plt.subplots(1, 1)\n",
    "ax.hist(text.ravel(), bins=256, range=[0, 255])\n",
    "ax.set_xlim(0, 256);"
   ]
  },
  {
   "cell_type": "markdown",
   "metadata": {},
   "source": [
    "### Experimentation: supervised thresholding\n",
    "\n",
    "Try simple NumPy methods and a few different thresholds on this image.  Because *we* are setting the threshold, this is *supervised* segmentation."
   ]
  },
  {
   "cell_type": "code",
   "execution_count": null,
   "metadata": {
    "tags": [
     "raises-exception",
     "remove-output"
    ]
   },
   "outputs": [],
   "source": [
    "text_segmented = ... # Your code here\n",
    "\n",
    "image_show(text_segmented);"
   ]
  },
  {
   "cell_type": "markdown",
   "metadata": {},
   "source": [
    "Not ideal results!  The shadow on the left creates problems; no single global value really fits.\n",
    "\n",
    "What if we don't want to set the threshold every time?  There are several published methods which look at the histogram and choose what should be an optimal threshold without user input.  These are unsupervised.  "
   ]
  },
  {
   "cell_type": "markdown",
   "metadata": {},
   "source": [
    "### Experimentation: unsupervised thresholding\n",
    "\n",
    "Here we will experiment with a number of automatic thresholding methods available in scikit-image.  Because these require no input beyond the image itself, this is *unsupervised* segmentation.\n",
    "\n",
    "These functions generally return the threshold value(s), rather than applying it to the image directly.\n",
    "\n",
    "Try `otsu` and `li`, then take a look at `local` or `sauvola`."
   ]
  },
  {
   "cell_type": "code",
   "execution_count": null,
   "metadata": {
    "tags": [
     "raises-exception",
     "remove-output"
    ]
   },
   "outputs": [],
   "source": [
    "text_threshold = filters.threshold_  # Hit tab with the cursor after the underscore, try several methods\n",
    "\n",
    "image_show(text < text_threshold);"
   ]
  },
  {
   "cell_type": "markdown",
   "metadata": {},
   "source": [
    "## Supervised segmentation\n",
    "\n",
    "Thresholding can be useful, but is rather basic and a high-contrast image will often limit its utility.  For doing more fun things - like removing part of an image - we need more advanced tools.\n",
    "\n",
    "For this section, we will use the `astronaut` image and attempt to segment Eileen Collins' head using supervised segmentation."
   ]
  },
  {
   "cell_type": "code",
   "execution_count": null,
   "metadata": {},
   "outputs": [],
   "source": [
    "# Our source image\n",
    "astronaut = data.astronaut()\n",
    "image_show(astronaut);"
   ]
  },
  {
   "cell_type": "markdown",
   "metadata": {},
   "source": [
    "The contrast is pretty good in this image for her head against the background, so we will simply convert to grayscale with `rgb2gray`."
   ]
  },
  {
   "cell_type": "code",
   "execution_count": null,
   "metadata": {},
   "outputs": [],
   "source": [
    "astronaut_gray = color.rgb2gray(astronaut)\n",
    "image_show(astronaut_gray);"
   ]
  },
  {
   "cell_type": "markdown",
   "metadata": {},
   "source": [
    "We will use two methods, which segment using very different approaches:\n",
    "\n",
    "* **Active Contour**: Initializes using a user-defined contour or line, which then is attracted to edges and/or brightness.  Can be tweaked for many situations, but mixed contrast may be problematic.\n",
    "* **Random walker**: Initialized using any labeled points, fills the image with the label that seems least distant from the origin point (on a path weighted by pixel differences).  Tends to respect edges or step-offs, and is surprisingly robust to noise.  Only one parameter to tweak."
   ]
  },
  {
   "cell_type": "markdown",
   "metadata": {},
   "source": [
    "### Active contour segmentation\n",
    "\n",
    "We must have a set of initial parameters to 'seed' our segmentation this.  Let's draw a circle around the astronaut's head to initialize the snake.\n",
    "\n",
    "This could be done interactively, with a GUI, but for simplicity we will start at the point [100, 220] and use a radius of 100 pixels.  Just a little trigonometry in this helper function..."
   ]
  },
  {
   "cell_type": "code",
   "execution_count": null,
   "metadata": {},
   "outputs": [],
   "source": [
    "def circle_points(resolution, center, radius):\n",
    "    \"\"\"Generate points defining a circle on an image.\"\"\"\n",
    "    radians = np.linspace(0, 2*np.pi, resolution)\n",
    "\n",
    "    r = center[0] + radius*np.sin(radians)\n",
    "    c = center[1] + radius*np.cos(radians)\n",
    "    \n",
    "    return np.array([r, c]).T\n",
    "\n",
    "# Exclude last point because a closed path should not have duplicate points\n",
    "points = circle_points(resolution=200, center=[100, 220], radius=100)[:-1]"
   ]
  },
  {
   "cell_type": "code",
   "execution_count": null,
   "metadata": {},
   "outputs": [],
   "source": [
    "snake = seg.active_contour(astronaut_gray, points, alpha=0.1)"
   ]
  },
  {
   "cell_type": "code",
   "execution_count": null,
   "metadata": {},
   "outputs": [],
   "source": [
    "fig, ax = image_show(astronaut)\n",
    "ax.plot(points[:, 1], points[:, 0], '--r', lw=3)\n",
    "ax.plot(snake[:, 1], snake[:, 0], '-b', lw=3);"
   ]
  },
  {
   "cell_type": "markdown",
   "metadata": {},
   "source": [
    "### Random walker\n",
    "\n",
    "One good analogy for random walker uses graph theory.  \n",
    "\n",
    "* The distance from each pixel to its neighbors is weighted by how similar their values are; the more similar, the lower the cost is to step from one to another\n",
    "* The user provides some seed points\n",
    "* The algorithm finds the cheapest paths from each point to each seed value.  \n",
    "* Pixels are labeled with the cheapest/lowest path.\n",
    "\n",
    "We will re-use the seed values from our previous example."
   ]
  },
  {
   "cell_type": "code",
   "execution_count": null,
   "metadata": {},
   "outputs": [],
   "source": [
    "astronaut_labels = np.zeros(astronaut_gray.shape, dtype=np.uint8)"
   ]
  },
  {
   "cell_type": "markdown",
   "metadata": {},
   "source": [
    "The random walker algorithm expects a label image as input.  Any label above zero will be treated as a seed; all zero-valued locations will be filled with labels from the positive integers available.\n",
    "\n",
    "There is also a masking feature where anything labeled -1 will never be labeled or traversed, but we will not use it here."
   ]
  },
  {
   "cell_type": "code",
   "execution_count": null,
   "metadata": {},
   "outputs": [],
   "source": [
    "indices = draw.circle_perimeter(100, 220, 25)\n",
    "\n",
    "astronaut_labels[indices] = 1\n",
    "astronaut_labels[points[:, 0].astype(int), points[:, 1].astype(int)] = 2\n",
    "\n",
    "image_show(astronaut_labels);"
   ]
  },
  {
   "cell_type": "code",
   "execution_count": null,
   "metadata": {},
   "outputs": [],
   "source": [
    "astronaut_segmented = seg.random_walker(\n",
    "    astronaut_gray, astronaut_labels, beta=2500, mode='bf'\n",
    ")"
   ]
  },
  {
   "cell_type": "code",
   "execution_count": null,
   "metadata": {},
   "outputs": [],
   "source": [
    "# Check our results\n",
    "fig, ax = image_show(astronaut_gray)\n",
    "ax.imshow(astronaut_segmented == 1, alpha=0.3);"
   ]
  },
  {
   "cell_type": "code",
   "execution_count": null,
   "metadata": {},
   "outputs": [],
   "source": []
  },
  {
   "cell_type": "markdown",
   "metadata": {},
   "source": [
    "## Flood fill\n",
    "\n",
    "A basic but effective segmentation technique was recently added to scikit-image: `segmentation.flood` and `segmentation.flood_fill`.  These algorithms take a seed point and iteratively find and fill adjacent points which are equal to or within a tolerance of the initial point.  `flood` returns the region; `flood_fill` returns a modified image with those points changed to a new value.\n",
    "\n",
    "This approach is most suited for areas which have a relatively uniform color or gray value, and/or high contrast relative to adjacent structures.\n",
    "\n",
    "Can we accomplish the same task with flood fill?"
   ]
  },
  {
   "cell_type": "code",
   "execution_count": null,
   "metadata": {},
   "outputs": [],
   "source": [
    "seed_point = (100, 220)  # Experiment with the seed point\n",
    "flood_mask = seg.flood(astronaut_gray, seed_point, tolerance=0.1)  # Experiment with tolerance"
   ]
  },
  {
   "cell_type": "code",
   "execution_count": null,
   "metadata": {},
   "outputs": [],
   "source": [
    "fig, ax = image_show(astronaut_gray)\n",
    "ax.imshow(flood_mask, alpha=0.3);\n",
    "ax.plot(220, 100, 'bo')"
   ]
  },
  {
   "cell_type": "markdown",
   "metadata": {},
   "source": [
    "Not ideal! The flood runs away into the background through the right earlobe.\n",
    "\n",
    "Let's think outside the box.  \n",
    "* What if instead of segmenting the head, we segmented the background around it and the collar?\n",
    "* Is there any way to increase the contrast between the background and skin?"
   ]
  },
  {
   "cell_type": "code",
   "execution_count": null,
   "metadata": {
    "tags": [
     "raises-exception",
     "remove-output"
    ]
   },
   "outputs": [],
   "source": [
    "seed_bkgnd = (100, 350)  # Background\n",
    "seed_collar = (200, 220)  # Collar\n",
    "\n",
    "better_contrast =   # Your idea to improve contrast here\n",
    "tol_bkgnd =    # Experiment with tolerance for background\n",
    "tol_collar =   # Experiment with tolerance for the collar\n",
    "\n",
    "flood_background = seg.flood(better_contrast, seed_bkgnd, tolerance=tol_bkgnd)\n",
    "flood_collar = seg.flood(better_contrast, seed_collar, tolerance=tol_collar)"
   ]
  },
  {
   "cell_type": "code",
   "execution_count": null,
   "metadata": {},
   "outputs": [],
   "source": [
    "fig, ax = image_show(better_contrast)\n",
    "\n",
    "# Combine the two floods with binary OR operator\n",
    "ax.imshow(flood_background | flood_collar, alpha=0.3);"
   ]
  },
  {
   "cell_type": "markdown",
   "metadata": {},
   "source": [
    "## Unsupervised segmentation\n",
    "\n",
    "Sometimes, human input is not possible or feasible - or, perhaps your images are so large that it is not feasible to consider all pixels simultaneously.  Unsupervised segmentation can then break the image down into several sub-regions, so instead of millions of pixels you have tens to hundreds of regions.\n",
    "\n",
    "### SLIC\n",
    "\n",
    "There are many analogies to machine learning in unsupervised segmentation.  Our first example directly uses a common machine learning algorithm under the hood - K-Means."
   ]
  },
  {
   "cell_type": "code",
   "execution_count": null,
   "metadata": {},
   "outputs": [],
   "source": [
    "# SLIC works in color, so we will use the original astronaut\n",
    "astronaut_slic = seg.slic(astronaut)"
   ]
  },
  {
   "cell_type": "code",
   "execution_count": null,
   "metadata": {},
   "outputs": [],
   "source": [
    "# label2rgb replaces each discrete label with the average interior color\n",
    "image_show(color.label2rgb(astronaut_slic, astronaut, kind='avg'));"
   ]
  },
  {
   "cell_type": "markdown",
   "metadata": {},
   "source": [
    "We've reduced this image from 512*512 = 262,000 pixels down to 100 regions!\n",
    "\n",
    "And most of these regions make some logical sense."
   ]
  },
  {
   "cell_type": "markdown",
   "metadata": {},
   "source": [
    "### Chan-Vese\n",
    "\n",
    "This algorithm iterates a level set, which allows it to capture complex and even disconnected features.  However, its result is binary - there will only be one region - and it requires a grayscale image.\n",
    "\n",
    "This algorithm takes a few seconds to run."
   ]
  },
  {
   "cell_type": "code",
   "execution_count": null,
   "metadata": {},
   "outputs": [],
   "source": [
    "chan_vese = seg.chan_vese(astronaut_gray)"
   ]
  },
  {
   "cell_type": "code",
   "execution_count": null,
   "metadata": {},
   "outputs": [],
   "source": [
    "fig, ax = image_show(astronaut_gray)\n",
    "ax.imshow(chan_vese == 0, alpha=0.3);"
   ]
  },
  {
   "cell_type": "markdown",
   "metadata": {},
   "source": [
    "Chan-Vese has a number of paremeters, which you can try out!  In the interest of time, we may move on."
   ]
  },
  {
   "cell_type": "code",
   "execution_count": null,
   "metadata": {},
   "outputs": [],
   "source": []
  },
  {
   "cell_type": "markdown",
   "metadata": {},
   "source": [
    "### Felzenszwalb\n",
    "\n",
    "This method oversegments an RGB image (requires color, unlike Chan-Vese) using another machine learning technique, a minimum-spanning tree clustering.  The number of segments is not guaranteed and can only be indirectly controlled via `scale` parameter."
   ]
  },
  {
   "cell_type": "code",
   "execution_count": null,
   "metadata": {},
   "outputs": [],
   "source": [
    "astronaut_felzenszwalb = seg.felzenszwalb(astronaut)  # Color required"
   ]
  },
  {
   "cell_type": "code",
   "execution_count": null,
   "metadata": {},
   "outputs": [],
   "source": [
    "image_show(astronaut_felzenszwalb);"
   ]
  },
  {
   "cell_type": "markdown",
   "metadata": {},
   "source": [
    "Whoa, lots of regions!  How many is that?"
   ]
  },
  {
   "cell_type": "code",
   "execution_count": null,
   "metadata": {},
   "outputs": [],
   "source": [
    "# Find the number of unique labels\n"
   ]
  },
  {
   "cell_type": "markdown",
   "metadata": {},
   "source": [
    "Let's see if they make sense; label them with the region average (see above with SLIC)"
   ]
  },
  {
   "cell_type": "code",
   "execution_count": null,
   "metadata": {
    "tags": [
     "raises-exception",
     "remove-output"
    ]
   },
   "outputs": [],
   "source": [
    "astronaut_felzenszwalb_colored =  # Your code here\n",
    "\n",
    "image_show(astronaut_felzenszwalb_colored);"
   ]
  },
  {
   "cell_type": "markdown",
   "metadata": {},
   "source": [
    "Actually reasonable small regions.  If we wanted fewer regions, we could change the `scale` parameter (try it!) or start here and combine them.\n",
    "\n",
    "This approach is sometimes called **oversegmentation**.\n",
    "\n",
    "But when there are too many regions, they must be combined somehow."
   ]
  },
  {
   "cell_type": "code",
   "execution_count": null,
   "metadata": {},
   "outputs": [],
   "source": []
  },
  {
   "cell_type": "markdown",
   "metadata": {},
   "source": [
    "## Combining regions with a Region Adjacency Graph (RAG)\n",
    "\n",
    "Remember how the concept behind random walker was functionally looking at the difference between each pixel and its neighbors, then figuring out which were most alike?  A RAG is essentially the same, except between regions.\n",
    "\n",
    "We have RAGs now in scikit-image, but we have to import *from the future*; this functionality is exposed in the `future.graph` submodule meaning it is stable and robust enough to ship, but the API may change."
   ]
  },
  {
   "cell_type": "code",
   "execution_count": null,
   "metadata": {},
   "outputs": [],
   "source": [
    "import skimage.future.graph as graph\n",
    "\n",
    "rag = graph.rag_mean_color(astronaut, astronaut_felzenszwalb + 1)"
   ]
  },
  {
   "cell_type": "markdown",
   "metadata": {},
   "source": [
    "Now we show just one application of a very useful tool - `skimage.measure.regionprops` - to determine the centroid of each labeled region and pass that to the graph.  \n",
    "\n",
    "`regionprops` has many, many other uses; see the API documentation for all of the features that can be quantified per-region!  \n",
    "http://scikit-image.org/docs/dev/api/skimage.measure.html#skimage.measure.regionprops"
   ]
  },
  {
   "cell_type": "code",
   "execution_count": null,
   "metadata": {},
   "outputs": [],
   "source": [
    "import skimage.measure as measure\n",
    "\n",
    "# Regionprops ignores zero, but we want to include it, so add one\n",
    "regions = measure.regionprops(astronaut_felzenszwalb + 1)  \n",
    "\n",
    "# Pass centroid data into the graph\n",
    "for region in regions:\n",
    "    rag.nodes[region['label']]['centroid'] = region['centroid']"
   ]
  },
  {
   "cell_type": "markdown",
   "metadata": {},
   "source": [
    "`display_edges` is a helper function to assist in visualizing the graph."
   ]
  },
  {
   "cell_type": "code",
   "execution_count": null,
   "metadata": {},
   "outputs": [],
   "source": [
    "def display_edges(image, g, threshold):\n",
    "    \"\"\"Draw edges of a RAG on its image\n",
    " \n",
    "    Returns a modified image with the edges drawn.Edges are drawn in green\n",
    "    and nodes are drawn in yellow.\n",
    " \n",
    "    Parameters\n",
    "    ----------\n",
    "    image : ndarray\n",
    "        The image to be drawn on.\n",
    "    g : RAG\n",
    "        The Region Adjacency Graph.\n",
    "    threshold : float\n",
    "        Only edges in `g` below `threshold` are drawn.\n",
    " \n",
    "    Returns:\n",
    "    out: ndarray\n",
    "        Image with the edges drawn.\n",
    "    \"\"\"\n",
    "    image = image.copy()\n",
    "    for edge in g.edges():\n",
    "        n1, n2 = edge\n",
    " \n",
    "        r1, c1 = map(int, rag.nodes[n1]['centroid'])\n",
    "        r2, c2 = map(int, rag.nodes[n2]['centroid'])\n",
    " \n",
    "        line  = draw.line(r1, c1, r2, c2)\n",
    "        circle = draw.circle(r1,c1,2)\n",
    " \n",
    "        if g[n1][n2]['weight'] < threshold :\n",
    "            image[line] = 0,255,0\n",
    "        image[circle] = 255,255,0\n",
    " \n",
    "    return image"
   ]
  },
  {
   "cell_type": "code",
   "execution_count": null,
   "metadata": {
    "tags": [
     "raises-exception",
     "remove-output"
    ]
   },
   "outputs": [],
   "source": [
    "# All edges are drawn with threshold at infinity\n",
    "edges_drawn_all = display_edges(astronaut_felzenszwalb_colored, rag, np.inf)\n",
    "image_show(edges_drawn_all);"
   ]
  },
  {
   "cell_type": "markdown",
   "metadata": {},
   "source": [
    "Try a range of thresholds out, see what happens."
   ]
  },
  {
   "cell_type": "code",
   "execution_count": null,
   "metadata": {
    "tags": [
     "raises-exception",
     "remove-output"
    ]
   },
   "outputs": [],
   "source": [
    "threshold = ... # Experiment\n",
    "\n",
    "edges_drawn_few = display_edges(astronaut_felzenszwalb_colored, rag, threshold)\n",
    "image_show(edges_drawn_few);"
   ]
  },
  {
   "cell_type": "markdown",
   "metadata": {},
   "source": [
    "#### Finally, cut the graph\n",
    "\n",
    "Once you are happy with the (dis)connected regions above, the graph can be cut to merge the regions which are still connected."
   ]
  },
  {
   "cell_type": "code",
   "execution_count": null,
   "metadata": {
    "tags": [
     "raises-exception",
     "remove-output"
    ]
   },
   "outputs": [],
   "source": [
    "final_labels = graph.cut_threshold(astronaut_felzenszwalb + 1, rag, threshold)\n",
    "final_label_rgb = color.label2rgb(final_labels, astronaut, kind='avg')\n",
    "\n",
    "image_show(final_label_rgb);"
   ]
  },
  {
   "cell_type": "markdown",
   "metadata": {},
   "source": [
    "How many regions exist now?"
   ]
  },
  {
   "cell_type": "code",
   "execution_count": null,
   "metadata": {
    "tags": [
     "raises-exception",
     "remove-output"
    ]
   },
   "outputs": [],
   "source": [
    "np.unique(final_labels).size"
   ]
  },
  {
   "cell_type": "markdown",
   "metadata": {},
   "source": [
    "## Exercise: Cat picture\n",
    "\n",
    "The data directory also has an excellent image of Stéfan's cat, Chelsea.  With what you've learned, can you segment the cat's nose?  How about the eyes?  Why is the eye particularly challenging?\n",
    "\n",
    "Hint: the cat's nose is located close to [240, 270] and the right eye center is near [110, 172] in row, column notation."
   ]
  },
  {
   "cell_type": "code",
   "execution_count": null,
   "metadata": {},
   "outputs": [],
   "source": [
    "fig, ax = image_show(data.chelsea())\n",
    "\n",
    "ax.plot(270, 240, marker='o', markersize=15, color=\"g\")\n",
    "ax.plot(172, 110, marker='o', markersize=15, color=\"r\");"
   ]
  },
  {
   "cell_type": "code",
   "execution_count": null,
   "metadata": {},
   "outputs": [],
   "source": []
  },
  {
   "cell_type": "code",
   "execution_count": null,
   "metadata": {},
   "outputs": [],
   "source": []
  }
 ],
 "metadata": {
  "celltoolbar": "Tags",
  "kernelspec": {
   "display_name": "Python 3 (ipykernel)",
   "language": "python",
   "name": "python3"
  },
  "language_info": {
   "codemirror_mode": {
    "name": "ipython",
    "version": 3
   },
   "file_extension": ".py",
   "mimetype": "text/x-python",
   "name": "python",
   "nbconvert_exporter": "python",
   "pygments_lexer": "ipython3",
   "version": "3.11.4"
  }
 },
 "nbformat": 4,
 "nbformat_minor": 4
}
