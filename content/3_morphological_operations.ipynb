{
 "cells": [
  {
   "cell_type": "markdown",
   "metadata": {},
   "source": [
    "# Morphological operations\n",
    "\n",
    "Morphology is the study of shapes. In image processing, some simple operations can get you a long way. The first things to learn are *erosion* and *dilation*. In erosion, we look at a pixel’s local neighborhood and replace the value of that pixel with the minimum value of that neighborhood. In dilation, we instead choose the maximum."
   ]
  },
  {
   "cell_type": "code",
   "execution_count": null,
   "metadata": {},
   "outputs": [],
   "source": [
    "import numpy as np\n",
    "import matplotlib.pyplot as plt"
   ]
  },
  {
   "cell_type": "code",
   "execution_count": null,
   "metadata": {},
   "outputs": [],
   "source": [
    "image = np.array([[0, 0, 0, 0, 0, 0, 0],\n",
    "                  [0, 0, 0, 0, 0, 0, 0],\n",
    "                  [0, 0, 1, 1, 1, 0, 0],\n",
    "                  [0, 0, 1, 1, 1, 0, 0],\n",
    "                  [0, 0, 1, 1, 1, 0, 0],\n",
    "                  [0, 0, 0, 0, 0, 0, 0],\n",
    "                  [0, 0, 0, 0, 0, 0, 0]], dtype=np.uint8)\n",
    "plt.imshow(image, cmap=\"gray\")"
   ]
  },
  {
   "cell_type": "markdown",
   "metadata": {},
   "source": [
    "The documentation for scikit-image's morphology module is\n",
    "[here](http://scikit-image.org/docs/0.10.x/api/skimage.morphology.html).\n",
    "\n",
    "#### structuring elements\n",
    "Importantly, we must use a *structuring element*, which defines the local\n",
    "neighborhood of each pixel. To get every neighbor (up, down, left, right, and\n",
    "diagonals), use `morphology.square`; to avoid diagonals, use\n",
    "`morphology.diamond`:"
   ]
  },
  {
   "cell_type": "code",
   "execution_count": null,
   "metadata": {},
   "outputs": [],
   "source": [
    "from skimage import img_as_float\n",
    "def imshow_all(*images, titles=None):\n",
    "    images = [img_as_float(img) for img in images]\n",
    "\n",
    "    if titles is None:\n",
    "        titles = [''] * len(images)\n",
    "    vmin = min(map(np.min, images))\n",
    "    vmax = max(map(np.max, images))\n",
    "    ncols = len(images)\n",
    "    height = 5\n",
    "    width = height * len(images)\n",
    "    fig, axes = plt.subplots(nrows=1, ncols=ncols,\n",
    "                             figsize=(width, height))\n",
    "    for ax, img, label in zip(axes.ravel(), images, titles):\n",
    "        ax.imshow(img, vmin=vmin, vmax=vmax)\n",
    "        ax.set_title(label)"
   ]
  },
  {
   "cell_type": "code",
   "execution_count": null,
   "metadata": {},
   "outputs": [],
   "source": [
    "from skimage import morphology\n",
    "sq = morphology.square(width=3)\n",
    "dia = morphology.diamond(radius=1)\n",
    "disk = morphology.disk(radius=1)\n",
    "\n",
    "print(\"square\")\n",
    "print(sq)\n",
    "print(\"diamond\")\n",
    "print(dia)\n",
    "print(\"disk\")\n",
    "print(disk)\n",
    "\n",
    "disk = morphology.disk(radius=30)\n",
    "imshow_all(sq, dia, disk)"
   ]
  },
  {
   "cell_type": "code",
   "execution_count": null,
   "metadata": {},
   "outputs": [],
   "source": [
    "from mpl_toolkits.mplot3d import Axes3D\n",
    "\n",
    "from skimage.morphology import (square, rectangle, diamond, disk, cube,\n",
    "                                octahedron, ball, octagon, star)\n",
    "\n",
    "# Generate 2D and 3D structuring elements.\n",
    "struc_2d = {\n",
    "    \"square(15)\": square(15),\n",
    "    \"rectangle(15, 10)\": rectangle(15, 10),\n",
    "    \"diamond(7)\": diamond(7),\n",
    "    \"disk(7)\": disk(7),\n",
    "    \"octagon(7, 4)\": octagon(7, 4),\n",
    "    \"star(5)\": star(5)\n",
    "}\n",
    "\n",
    "struc_3d = {\n",
    "    \"cube(11)\": cube(11),\n",
    "    \"octahedron(5)\": octahedron(5),\n",
    "    \"ball(5)\": ball(5)\n",
    "}\n",
    "\n",
    "# Visualize the elements.\n",
    "fig = plt.figure(figsize=(8, 8))\n",
    "\n",
    "idx = 1\n",
    "for title, struc in struc_2d.items():\n",
    "    ax = fig.add_subplot(3, 3, idx)\n",
    "    ax.imshow(struc, cmap=\"Paired\", vmin=0, vmax=12)\n",
    "    for i in range(struc.shape[0]):\n",
    "        for j in range(struc.shape[1]):\n",
    "            ax.text(j, i, struc[i, j], ha=\"center\", va=\"center\", color=\"w\")\n",
    "    ax.set_axis_off()\n",
    "    ax.set_title(title)\n",
    "    idx += 1\n",
    "\n",
    "for title, struc in struc_3d.items():\n",
    "    ax = fig.add_subplot(3, 3, idx, projection=Axes3D.name)\n",
    "    ax.voxels(struc)\n",
    "    ax.set_title(title)\n",
    "    idx += 1\n",
    "\n",
    "fig.tight_layout()\n",
    "plt.show()"
   ]
  },
  {
   "cell_type": "markdown",
   "metadata": {},
   "source": [
    "\n",
    "#### Operation\n",
    "The central value of the structuring element represents the pixel being considered, and the surrounding values are the neighbors: a 1 value means that pixel counts as a neighbor, while a 0 value does not. So:"
   ]
  },
  {
   "cell_type": "code",
   "execution_count": null,
   "metadata": {},
   "outputs": [],
   "source": [
    "image_erosion = morphology.erosion(image, sq)\n",
    "_, axs = plt.subplots(ncols=2, figsize=(8, 14))\n",
    "axs[0].imshow(image, cmap=\"gray\")\n",
    "_ = axs[1].imshow(image_erosion, cmap=\"gray\")"
   ]
  },
  {
   "cell_type": "markdown",
   "metadata": {},
   "source": [
    "and"
   ]
  },
  {
   "cell_type": "code",
   "execution_count": null,
   "metadata": {},
   "outputs": [],
   "source": [
    "image_dilation = morphology.dilation(image, sq)\n",
    "_, axs = plt.subplots(ncols=2, figsize=(8, 14))\n",
    "axs[0].imshow(image, cmap=\"gray\")\n",
    "_ = axs[1].imshow(image_dilation, cmap=\"gray\")"
   ]
  },
  {
   "cell_type": "markdown",
   "metadata": {},
   "source": [
    "and"
   ]
  },
  {
   "cell_type": "code",
   "execution_count": null,
   "metadata": {},
   "outputs": [],
   "source": [
    "image_dilation = morphology.dilation(image, dia)\n",
    "_, axs = plt.subplots(ncols=2, figsize=(8, 14))\n",
    "axs[0].imshow(image, cmap=\"gray\")\n",
    "_ = axs[1].imshow(image_dilation, cmap=\"gray\")"
   ]
  },
  {
   "cell_type": "markdown",
   "metadata": {},
   "source": [
    "Erosion and dilation can be combined into two slightly more sophisticated operations, *opening* and *closing*. Here's an example:"
   ]
  },
  {
   "cell_type": "code",
   "execution_count": null,
   "metadata": {},
   "outputs": [],
   "source": [
    "image = np.array([[0, 0, 0, 0, 0, 0, 0, 0, 0, 0],\n",
    "                  [0, 0, 0, 0, 0, 0, 0, 0, 0, 0],\n",
    "                  [0, 0, 1, 1, 1, 1, 1, 1, 0, 0],\n",
    "                  [0, 0, 1, 1, 1, 1, 1, 1, 0, 0],\n",
    "                  [0, 0, 1, 1, 1, 1, 1, 1, 0, 0],\n",
    "                  [0, 0, 1, 1, 1, 0, 0, 1, 0, 0],\n",
    "                  [0, 0, 1, 1, 1, 0, 0, 1, 0, 0],\n",
    "                  [0, 0, 1, 1, 1, 0, 0, 1, 0, 0],\n",
    "                  [0, 0, 1, 1, 1, 1, 1, 1, 0, 0],\n",
    "                  [0, 0, 1, 1, 1, 1, 1, 1, 0, 0],\n",
    "                  [0, 0, 1, 1, 1, 1, 1, 1, 0, 0],\n",
    "                  [0, 0, 0, 0, 0, 0, 0, 0, 0, 0],\n",
    "                  [0, 0, 0, 0, 0, 0, 0, 0, 0, 0]], np.uint8)\n",
    "_ = plt.imshow(image, cmap=\"gray\")"
   ]
  },
  {
   "cell_type": "markdown",
   "metadata": {},
   "source": [
    "What happens when run an erosion followed by a dilation of this image?\n",
    "\n",
    "What about the reverse?\n",
    "\n",
    "Try to imagine the operations in your head before trying them out below."
   ]
  },
  {
   "cell_type": "code",
   "execution_count": null,
   "metadata": {},
   "outputs": [],
   "source": [
    "image_opening = morphology.opening(image, sq)  # erosion -> dilation\n",
    "_, axs = plt.subplots(ncols=2, figsize=(8, 14))\n",
    "axs[0].imshow(image, cmap=\"gray\")\n",
    "_ = axs[1].imshow(image_opening, cmap=\"gray\")"
   ]
  },
  {
   "cell_type": "code",
   "execution_count": null,
   "metadata": {},
   "outputs": [],
   "source": [
    "image_closing = morphology.closing(image, sq)  # dilation -> erosion\n",
    "_, axs = plt.subplots(ncols=2, figsize=(8, 14))\n",
    "axs[0].imshow(image, cmap=\"gray\")\n",
    "_ = axs[1].imshow(image_closing, cmap=\"gray\")"
   ]
  },
  {
   "cell_type": "markdown",
   "metadata": {},
   "source": [
    "**Exercise**: use morphological operations to remove noise from a binary image."
   ]
  },
  {
   "cell_type": "code",
   "execution_count": null,
   "metadata": {},
   "outputs": [],
   "source": [
    "from skimage import data, color\n",
    "\n",
    "hub = color.rgb2gray(data.hubble_deep_field()[350:450, 90:190])\n",
    "_ = plt.imshow(hub, cmap=\"gray\")"
   ]
  },
  {
   "cell_type": "markdown",
   "metadata": {},
   "source": [
    "Remove the smaller objects to retrieve the large galaxy."
   ]
  },
  {
   "cell_type": "code",
   "execution_count": null,
   "metadata": {},
   "outputs": [],
   "source": []
  },
  {
   "cell_type": "markdown",
   "metadata": {},
   "source": [
    "You can refer to the following example for an additional application of morphological operation: https://scikit-image.org/docs/stable/auto_examples/edges/plot_skeleton.html"
   ]
  }
 ],
 "metadata": {
  "kernelspec": {
   "display_name": "Python 3 (ipykernel)",
   "language": "python",
   "name": "python3"
  },
  "language_info": {
   "codemirror_mode": {
    "name": "ipython",
    "version": 3
   },
   "file_extension": ".py",
   "mimetype": "text/x-python",
   "name": "python",
   "nbconvert_exporter": "python",
   "pygments_lexer": "ipython3",
   "version": "3.11.4"
  }
 },
 "nbformat": 4,
 "nbformat_minor": 4
}
